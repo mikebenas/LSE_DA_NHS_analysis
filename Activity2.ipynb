{
 "cells": [
  {
   "cell_type": "code",
   "execution_count": null,
   "metadata": {},
   "outputs": [],
   "source": [
    "#Import libraries for analysis\n",
    "import pandas as pd\n",
    "import numpy as np\n",
    "\n",
    "#Store dataframes in variables\n",
    "ad=pd.read_csv ('actual_duration.csv')\n",
    "ar=pd.read_csv ('appointments_regional.csv')\n",
    "nv=pd.read_excel ('national_categories.xlsx')\n"
   ]
  },
  {
   "cell_type": "code",
   "execution_count": 2,
   "metadata": {},
   "outputs": [
    {
     "name": "stdout",
     "output_type": "stream",
     "text": [
      "(137793, 8) (596821, 7) (817394, 8)\n",
      "Index(['sub_icb_location_code', 'sub_icb_location_ons_code',\n",
      "       'sub_icb_location_name', 'icb_ons_code', 'region_ons_code',\n",
      "       'appointment_date', 'actual_duration', 'count_of_appointments'],\n",
      "      dtype='object')\n",
      "Index(['icb_ons_code', 'appointment_month', 'appointment_status', 'hcp_type',\n",
      "       'appointment_mode', 'time_between_book_and_appointment',\n",
      "       'count_of_appointments'],\n",
      "      dtype='object')\n",
      "Index(['appointment_date', 'icb_ons_code', 'sub_icb_location_name',\n",
      "       'service_setting', 'context_type', 'national_category',\n",
      "       'count_of_appointments', 'appointment_month'],\n",
      "      dtype='object')\n"
     ]
    }
   ],
   "source": [
    "#Sense checking the dataframes\n",
    "print(ad.shape, ar.shape, nv.shape)\n",
    "print (ad.columns)\n",
    "print (ar.columns)\n",
    "print (nv.columns)\n",
    "\n",
    "\n"
   ]
  },
  {
   "cell_type": "code",
   "execution_count": 3,
   "metadata": {},
   "outputs": [
    {
     "name": "stdout",
     "output_type": "stream",
     "text": [
      "       count_of_appointments\n",
      "count          137793.000000\n",
      "mean             1219.080011\n",
      "std              1546.902956\n",
      "min                 1.000000\n",
      "25%               194.000000\n",
      "50%               696.000000\n",
      "75%              1621.000000\n",
      "max             15400.000000\n",
      "       count_of_appointments\n",
      "count          596821.000000\n",
      "mean             1244.601857\n",
      "std              5856.887042\n",
      "min                 1.000000\n",
      "25%                 7.000000\n",
      "50%                47.000000\n",
      "75%               308.000000\n",
      "max            211265.000000\n",
      "       count_of_appointments\n",
      "count          817394.000000\n",
      "mean              362.183684\n",
      "std              1084.576600\n",
      "min                 1.000000\n",
      "25%                 7.000000\n",
      "50%                25.000000\n",
      "75%               128.000000\n",
      "max             16590.000000\n",
      "<class 'pandas.core.frame.DataFrame'>\n",
      "RangeIndex: 137793 entries, 0 to 137792\n",
      "Data columns (total 8 columns):\n",
      " #   Column                     Non-Null Count   Dtype \n",
      "---  ------                     --------------   ----- \n",
      " 0   sub_icb_location_code      137793 non-null  object\n",
      " 1   sub_icb_location_ons_code  137793 non-null  object\n",
      " 2   sub_icb_location_name      137793 non-null  object\n",
      " 3   icb_ons_code               137793 non-null  object\n",
      " 4   region_ons_code            137793 non-null  object\n",
      " 5   appointment_date           137793 non-null  object\n",
      " 6   actual_duration            137793 non-null  object\n",
      " 7   count_of_appointments      137793 non-null  int64 \n",
      "dtypes: int64(1), object(7)\n",
      "memory usage: 8.4+ MB\n",
      "None\n",
      "<class 'pandas.core.frame.DataFrame'>\n",
      "RangeIndex: 596821 entries, 0 to 596820\n",
      "Data columns (total 7 columns):\n",
      " #   Column                             Non-Null Count   Dtype \n",
      "---  ------                             --------------   ----- \n",
      " 0   icb_ons_code                       596821 non-null  object\n",
      " 1   appointment_month                  596821 non-null  object\n",
      " 2   appointment_status                 596821 non-null  object\n",
      " 3   hcp_type                           596821 non-null  object\n",
      " 4   appointment_mode                   596821 non-null  object\n",
      " 5   time_between_book_and_appointment  596821 non-null  object\n",
      " 6   count_of_appointments              596821 non-null  int64 \n",
      "dtypes: int64(1), object(6)\n",
      "memory usage: 31.9+ MB\n",
      "None\n",
      "<class 'pandas.core.frame.DataFrame'>\n",
      "RangeIndex: 817394 entries, 0 to 817393\n",
      "Data columns (total 8 columns):\n",
      " #   Column                 Non-Null Count   Dtype         \n",
      "---  ------                 --------------   -----         \n",
      " 0   appointment_date       817394 non-null  datetime64[ns]\n",
      " 1   icb_ons_code           817394 non-null  object        \n",
      " 2   sub_icb_location_name  817394 non-null  object        \n",
      " 3   service_setting        817394 non-null  object        \n",
      " 4   context_type           817394 non-null  object        \n",
      " 5   national_category      817394 non-null  object        \n",
      " 6   count_of_appointments  817394 non-null  int64         \n",
      " 7   appointment_month      817394 non-null  object        \n",
      "dtypes: datetime64[ns](1), int64(1), object(6)\n",
      "memory usage: 49.9+ MB\n",
      "None\n"
     ]
    }
   ],
   "source": [
    "#Determine the descriptive statistics and metadata  of each DataFrame\n",
    "print (ad.describe())\n",
    "print (ar.describe())\n",
    "print (nv.describe())\n",
    "\n",
    "print (ad.info())\n",
    "print (ar.info())\n",
    "print (nv.info())\n"
   ]
  },
  {
   "cell_type": "code",
   "execution_count": 42,
   "metadata": {},
   "outputs": [
    {
     "name": "stdout",
     "output_type": "stream",
     "text": [
      "Count of locations: NHS Norfolk and Waveney ICB - 26A                       1484\n",
      "NHS Kent and Medway ICB - 91Q                           1484\n",
      "NHS North West London ICB - W2U3Z                       1484\n",
      "NHS Bedfordshire Luton and Milton Keynes ICB - M1J4Y    1484\n",
      "NHS Greater Manchester ICB - 14L                        1484\n",
      "                                                        ... \n",
      "NHS Staffordshire and Stoke-on-Trent ICB - 05D          1051\n",
      "NHS South Yorkshire ICB - 03L                           1028\n",
      "NHS North East and North Cumbria ICB - 00P              1025\n",
      "NHS South Yorkshire ICB - 02P                           1022\n",
      "NHS Cheshire and Merseyside ICB - 01F                   1013\n",
      "Name: sub_icb_location_name, Length: 106, dtype: int64\n"
     ]
    }
   ],
   "source": [
    "#Explore data to respond to:\n",
    "#1) value.counts ()\n",
    "\n",
    "cnt_loc=ad['sub_icb_location_name'].value_counts()\n",
    "print(\"Count of locations: %s\" % (cnt_loc))\n"
   ]
  },
  {
   "cell_type": "markdown",
   "metadata": {},
   "source": [
    "From the initial analysis we can see that there are columns that need cleaning and changing data type."
   ]
  }
 ],
 "metadata": {
  "kernelspec": {
   "display_name": "Python 3.9.12 ('base')",
   "language": "python",
   "name": "python3"
  },
  "language_info": {
   "codemirror_mode": {
    "name": "ipython",
    "version": 3
   },
   "file_extension": ".py",
   "mimetype": "text/x-python",
   "name": "python",
   "nbconvert_exporter": "python",
   "pygments_lexer": "ipython3",
   "version": "3.9.12"
  },
  "orig_nbformat": 4,
  "vscode": {
   "interpreter": {
    "hash": "1b32e9bd945c7433f5b07266701d547c5dd8223410e8b9fcc928b2d031e45c37"
   }
  }
 },
 "nbformat": 4,
 "nbformat_minor": 2
}
